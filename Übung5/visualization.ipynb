{
 "cells": [
  {
   "cell_type": "code",
   "execution_count": 1,
   "metadata": {},
   "outputs": [],
   "source": [
    "import paho.mqtt.client as mqtt\n",
    "import psycopg2\n",
    "import pandas as pd\n",
    "conn = psycopg2.connect(\"dbname='postgres' user='postgres' password='p%zeUq$8uUw9' host='localhost' port='5432'\")\n",
    "cursor = conn.cursor()\n",
    "\n",
    "cursor.execute(\"SELECT m.*, k.kunde_account, f.kfz_kennzeichen, f.baujahr, f.modell, f.hersteller FROM mart.f_messung m, mart.d_kunde k, mart.d_fahrzeug f WHERE m.d_kunde_key = k.d_kunde_key and f.d_fahrzeug_key = m.d_fahrzeug_key\")\n",
    "df = pd.DataFrame(cursor.fetchall(), columns=['f_messung_key', 'd_kunde_key', 'd_fahrzeug_key', 'messung_erzeugt', 'geschwindigkeit', 'd_ort_messung_key', 'messung_eingetroffen', 'kunde_account', 'kfz_kennzeichen', 'baujahr', 'modell', 'hersteller'])"
   ]
  },
  {
   "cell_type": "code",
   "execution_count": 2,
   "metadata": {},
   "outputs": [
    {
     "data": {
      "text/html": [
       "<div>\n",
       "<style scoped>\n",
       "    .dataframe tbody tr th:only-of-type {\n",
       "        vertical-align: middle;\n",
       "    }\n",
       "\n",
       "    .dataframe tbody tr th {\n",
       "        vertical-align: top;\n",
       "    }\n",
       "\n",
       "    .dataframe thead th {\n",
       "        text-align: right;\n",
       "    }\n",
       "</style>\n",
       "<table border=\"1\" class=\"dataframe\">\n",
       "  <thead>\n",
       "    <tr style=\"text-align: right;\">\n",
       "      <th></th>\n",
       "      <th>f_messung_key</th>\n",
       "      <th>d_kunde_key</th>\n",
       "      <th>d_fahrzeug_key</th>\n",
       "      <th>messung_erzeugt</th>\n",
       "      <th>geschwindigkeit</th>\n",
       "      <th>d_ort_messung_key</th>\n",
       "      <th>messung_eingetroffen</th>\n",
       "      <th>kunde_account</th>\n",
       "      <th>kfz_kennzeichen</th>\n",
       "      <th>baujahr</th>\n",
       "      <th>modell</th>\n",
       "      <th>hersteller</th>\n",
       "    </tr>\n",
       "  </thead>\n",
       "  <tbody>\n",
       "    <tr>\n",
       "      <th>0</th>\n",
       "      <td>1</td>\n",
       "      <td>1</td>\n",
       "      <td>1</td>\n",
       "      <td>2023-01-17 15:42:12.677134</td>\n",
       "      <td>40.0</td>\n",
       "      <td>5</td>\n",
       "      <td>2023-01-17 15:42:14.221413</td>\n",
       "      <td>kminion</td>\n",
       "      <td>UL-DV 111</td>\n",
       "      <td>1985</td>\n",
       "      <td>Trabant 601 de luxe</td>\n",
       "      <td>Sachsenring Automobilwerke Zwickau GmbH</td>\n",
       "    </tr>\n",
       "    <tr>\n",
       "      <th>1</th>\n",
       "      <td>2</td>\n",
       "      <td>1</td>\n",
       "      <td>1</td>\n",
       "      <td>2023-01-17 15:42:17.686331</td>\n",
       "      <td>41.0</td>\n",
       "      <td>5</td>\n",
       "      <td>2023-01-17 15:42:17.799643</td>\n",
       "      <td>kminion</td>\n",
       "      <td>UL-DV 111</td>\n",
       "      <td>1985</td>\n",
       "      <td>Trabant 601 de luxe</td>\n",
       "      <td>Sachsenring Automobilwerke Zwickau GmbH</td>\n",
       "    </tr>\n",
       "    <tr>\n",
       "      <th>2</th>\n",
       "      <td>3</td>\n",
       "      <td>1</td>\n",
       "      <td>1</td>\n",
       "      <td>2023-01-17 15:42:22.700501</td>\n",
       "      <td>44.0</td>\n",
       "      <td>5</td>\n",
       "      <td>2023-01-17 15:42:22.914386</td>\n",
       "      <td>kminion</td>\n",
       "      <td>UL-DV 111</td>\n",
       "      <td>1985</td>\n",
       "      <td>Trabant 601 de luxe</td>\n",
       "      <td>Sachsenring Automobilwerke Zwickau GmbH</td>\n",
       "    </tr>\n",
       "    <tr>\n",
       "      <th>3</th>\n",
       "      <td>4</td>\n",
       "      <td>1</td>\n",
       "      <td>1</td>\n",
       "      <td>2023-01-17 15:42:27.707549</td>\n",
       "      <td>47.0</td>\n",
       "      <td>5</td>\n",
       "      <td>2023-01-17 15:42:27.843055</td>\n",
       "      <td>kminion</td>\n",
       "      <td>UL-DV 111</td>\n",
       "      <td>1985</td>\n",
       "      <td>Trabant 601 de luxe</td>\n",
       "      <td>Sachsenring Automobilwerke Zwickau GmbH</td>\n",
       "    </tr>\n",
       "    <tr>\n",
       "      <th>4</th>\n",
       "      <td>5</td>\n",
       "      <td>1</td>\n",
       "      <td>1</td>\n",
       "      <td>2023-01-17 15:42:32.710868</td>\n",
       "      <td>50.0</td>\n",
       "      <td>5</td>\n",
       "      <td>2023-01-17 15:42:32.866463</td>\n",
       "      <td>kminion</td>\n",
       "      <td>UL-DV 111</td>\n",
       "      <td>1985</td>\n",
       "      <td>Trabant 601 de luxe</td>\n",
       "      <td>Sachsenring Automobilwerke Zwickau GmbH</td>\n",
       "    </tr>\n",
       "    <tr>\n",
       "      <th>5</th>\n",
       "      <td>6</td>\n",
       "      <td>1</td>\n",
       "      <td>1</td>\n",
       "      <td>2023-01-17 15:42:37.725477</td>\n",
       "      <td>44.0</td>\n",
       "      <td>5</td>\n",
       "      <td>2023-01-17 15:42:37.872459</td>\n",
       "      <td>kminion</td>\n",
       "      <td>UL-DV 111</td>\n",
       "      <td>1985</td>\n",
       "      <td>Trabant 601 de luxe</td>\n",
       "      <td>Sachsenring Automobilwerke Zwickau GmbH</td>\n",
       "    </tr>\n",
       "    <tr>\n",
       "      <th>6</th>\n",
       "      <td>7</td>\n",
       "      <td>1</td>\n",
       "      <td>1</td>\n",
       "      <td>2023-01-17 15:42:42.739755</td>\n",
       "      <td>34.0</td>\n",
       "      <td>5</td>\n",
       "      <td>2023-01-17 15:42:42.995149</td>\n",
       "      <td>kminion</td>\n",
       "      <td>UL-DV 111</td>\n",
       "      <td>1985</td>\n",
       "      <td>Trabant 601 de luxe</td>\n",
       "      <td>Sachsenring Automobilwerke Zwickau GmbH</td>\n",
       "    </tr>\n",
       "    <tr>\n",
       "      <th>7</th>\n",
       "      <td>8</td>\n",
       "      <td>1</td>\n",
       "      <td>1</td>\n",
       "      <td>2023-01-17 15:42:47.744007</td>\n",
       "      <td>30.0</td>\n",
       "      <td>5</td>\n",
       "      <td>2023-01-17 15:42:47.906493</td>\n",
       "      <td>kminion</td>\n",
       "      <td>UL-DV 111</td>\n",
       "      <td>1985</td>\n",
       "      <td>Trabant 601 de luxe</td>\n",
       "      <td>Sachsenring Automobilwerke Zwickau GmbH</td>\n",
       "    </tr>\n",
       "    <tr>\n",
       "      <th>8</th>\n",
       "      <td>9</td>\n",
       "      <td>2</td>\n",
       "      <td>2</td>\n",
       "      <td>2023-01-24 11:47:26.924133</td>\n",
       "      <td>0.0</td>\n",
       "      <td>4</td>\n",
       "      <td>2023-01-24 11:48:07.535434</td>\n",
       "      <td>lilifee</td>\n",
       "      <td>UL-LF 333</td>\n",
       "      <td>2018</td>\n",
       "      <td>S 1000 RR</td>\n",
       "      <td>BMW Motorrad</td>\n",
       "    </tr>\n",
       "    <tr>\n",
       "      <th>9</th>\n",
       "      <td>10</td>\n",
       "      <td>2</td>\n",
       "      <td>2</td>\n",
       "      <td>2023-01-24 11:47:31.927899</td>\n",
       "      <td>5.0</td>\n",
       "      <td>5</td>\n",
       "      <td>2023-01-24 11:48:07.540388</td>\n",
       "      <td>lilifee</td>\n",
       "      <td>UL-LF 333</td>\n",
       "      <td>2018</td>\n",
       "      <td>S 1000 RR</td>\n",
       "      <td>BMW Motorrad</td>\n",
       "    </tr>\n",
       "    <tr>\n",
       "      <th>10</th>\n",
       "      <td>11</td>\n",
       "      <td>2</td>\n",
       "      <td>2</td>\n",
       "      <td>2023-01-24 11:47:36.940227</td>\n",
       "      <td>6.0</td>\n",
       "      <td>6</td>\n",
       "      <td>2023-01-24 11:48:07.543228</td>\n",
       "      <td>lilifee</td>\n",
       "      <td>UL-LF 333</td>\n",
       "      <td>2018</td>\n",
       "      <td>S 1000 RR</td>\n",
       "      <td>BMW Motorrad</td>\n",
       "    </tr>\n",
       "    <tr>\n",
       "      <th>11</th>\n",
       "      <td>12</td>\n",
       "      <td>2</td>\n",
       "      <td>2</td>\n",
       "      <td>2023-01-24 11:47:41.944969</td>\n",
       "      <td>16.0</td>\n",
       "      <td>7</td>\n",
       "      <td>2023-01-24 11:48:07.548692</td>\n",
       "      <td>lilifee</td>\n",
       "      <td>UL-LF 333</td>\n",
       "      <td>2018</td>\n",
       "      <td>S 1000 RR</td>\n",
       "      <td>BMW Motorrad</td>\n",
       "    </tr>\n",
       "    <tr>\n",
       "      <th>12</th>\n",
       "      <td>13</td>\n",
       "      <td>2</td>\n",
       "      <td>2</td>\n",
       "      <td>2023-01-24 11:47:46.960791</td>\n",
       "      <td>23.0</td>\n",
       "      <td>8</td>\n",
       "      <td>2023-01-24 11:48:07.551323</td>\n",
       "      <td>lilifee</td>\n",
       "      <td>UL-LF 333</td>\n",
       "      <td>2018</td>\n",
       "      <td>S 1000 RR</td>\n",
       "      <td>BMW Motorrad</td>\n",
       "    </tr>\n",
       "    <tr>\n",
       "      <th>13</th>\n",
       "      <td>14</td>\n",
       "      <td>2</td>\n",
       "      <td>2</td>\n",
       "      <td>2023-01-24 11:47:51.962594</td>\n",
       "      <td>31.0</td>\n",
       "      <td>9</td>\n",
       "      <td>2023-01-24 11:48:07.553926</td>\n",
       "      <td>lilifee</td>\n",
       "      <td>UL-LF 333</td>\n",
       "      <td>2018</td>\n",
       "      <td>S 1000 RR</td>\n",
       "      <td>BMW Motorrad</td>\n",
       "    </tr>\n",
       "    <tr>\n",
       "      <th>14</th>\n",
       "      <td>15</td>\n",
       "      <td>2</td>\n",
       "      <td>2</td>\n",
       "      <td>2023-01-24 11:47:56.966988</td>\n",
       "      <td>38.0</td>\n",
       "      <td>10</td>\n",
       "      <td>2023-01-24 11:48:07.557301</td>\n",
       "      <td>lilifee</td>\n",
       "      <td>UL-LF 333</td>\n",
       "      <td>2018</td>\n",
       "      <td>S 1000 RR</td>\n",
       "      <td>BMW Motorrad</td>\n",
       "    </tr>\n",
       "    <tr>\n",
       "      <th>15</th>\n",
       "      <td>16</td>\n",
       "      <td>2</td>\n",
       "      <td>2</td>\n",
       "      <td>2023-01-24 11:48:01.972454</td>\n",
       "      <td>42.0</td>\n",
       "      <td>1</td>\n",
       "      <td>2023-01-24 11:48:07.561338</td>\n",
       "      <td>lilifee</td>\n",
       "      <td>UL-LF 333</td>\n",
       "      <td>2018</td>\n",
       "      <td>S 1000 RR</td>\n",
       "      <td>BMW Motorrad</td>\n",
       "    </tr>\n",
       "  </tbody>\n",
       "</table>\n",
       "</div>"
      ],
      "text/plain": [
       "    f_messung_key  d_kunde_key  d_fahrzeug_key            messung_erzeugt  \\\n",
       "0               1            1               1 2023-01-17 15:42:12.677134   \n",
       "1               2            1               1 2023-01-17 15:42:17.686331   \n",
       "2               3            1               1 2023-01-17 15:42:22.700501   \n",
       "3               4            1               1 2023-01-17 15:42:27.707549   \n",
       "4               5            1               1 2023-01-17 15:42:32.710868   \n",
       "5               6            1               1 2023-01-17 15:42:37.725477   \n",
       "6               7            1               1 2023-01-17 15:42:42.739755   \n",
       "7               8            1               1 2023-01-17 15:42:47.744007   \n",
       "8               9            2               2 2023-01-24 11:47:26.924133   \n",
       "9              10            2               2 2023-01-24 11:47:31.927899   \n",
       "10             11            2               2 2023-01-24 11:47:36.940227   \n",
       "11             12            2               2 2023-01-24 11:47:41.944969   \n",
       "12             13            2               2 2023-01-24 11:47:46.960791   \n",
       "13             14            2               2 2023-01-24 11:47:51.962594   \n",
       "14             15            2               2 2023-01-24 11:47:56.966988   \n",
       "15             16            2               2 2023-01-24 11:48:01.972454   \n",
       "\n",
       "    geschwindigkeit  d_ort_messung_key       messung_eingetroffen  \\\n",
       "0              40.0                  5 2023-01-17 15:42:14.221413   \n",
       "1              41.0                  5 2023-01-17 15:42:17.799643   \n",
       "2              44.0                  5 2023-01-17 15:42:22.914386   \n",
       "3              47.0                  5 2023-01-17 15:42:27.843055   \n",
       "4              50.0                  5 2023-01-17 15:42:32.866463   \n",
       "5              44.0                  5 2023-01-17 15:42:37.872459   \n",
       "6              34.0                  5 2023-01-17 15:42:42.995149   \n",
       "7              30.0                  5 2023-01-17 15:42:47.906493   \n",
       "8               0.0                  4 2023-01-24 11:48:07.535434   \n",
       "9               5.0                  5 2023-01-24 11:48:07.540388   \n",
       "10              6.0                  6 2023-01-24 11:48:07.543228   \n",
       "11             16.0                  7 2023-01-24 11:48:07.548692   \n",
       "12             23.0                  8 2023-01-24 11:48:07.551323   \n",
       "13             31.0                  9 2023-01-24 11:48:07.553926   \n",
       "14             38.0                 10 2023-01-24 11:48:07.557301   \n",
       "15             42.0                  1 2023-01-24 11:48:07.561338   \n",
       "\n",
       "   kunde_account kfz_kennzeichen  baujahr               modell  \\\n",
       "0        kminion       UL-DV 111     1985  Trabant 601 de luxe   \n",
       "1        kminion       UL-DV 111     1985  Trabant 601 de luxe   \n",
       "2        kminion       UL-DV 111     1985  Trabant 601 de luxe   \n",
       "3        kminion       UL-DV 111     1985  Trabant 601 de luxe   \n",
       "4        kminion       UL-DV 111     1985  Trabant 601 de luxe   \n",
       "5        kminion       UL-DV 111     1985  Trabant 601 de luxe   \n",
       "6        kminion       UL-DV 111     1985  Trabant 601 de luxe   \n",
       "7        kminion       UL-DV 111     1985  Trabant 601 de luxe   \n",
       "8        lilifee       UL-LF 333     2018            S 1000 RR   \n",
       "9        lilifee       UL-LF 333     2018            S 1000 RR   \n",
       "10       lilifee       UL-LF 333     2018            S 1000 RR   \n",
       "11       lilifee       UL-LF 333     2018            S 1000 RR   \n",
       "12       lilifee       UL-LF 333     2018            S 1000 RR   \n",
       "13       lilifee       UL-LF 333     2018            S 1000 RR   \n",
       "14       lilifee       UL-LF 333     2018            S 1000 RR   \n",
       "15       lilifee       UL-LF 333     2018            S 1000 RR   \n",
       "\n",
       "                                 hersteller  \n",
       "0   Sachsenring Automobilwerke Zwickau GmbH  \n",
       "1   Sachsenring Automobilwerke Zwickau GmbH  \n",
       "2   Sachsenring Automobilwerke Zwickau GmbH  \n",
       "3   Sachsenring Automobilwerke Zwickau GmbH  \n",
       "4   Sachsenring Automobilwerke Zwickau GmbH  \n",
       "5   Sachsenring Automobilwerke Zwickau GmbH  \n",
       "6   Sachsenring Automobilwerke Zwickau GmbH  \n",
       "7   Sachsenring Automobilwerke Zwickau GmbH  \n",
       "8                              BMW Motorrad  \n",
       "9                              BMW Motorrad  \n",
       "10                             BMW Motorrad  \n",
       "11                             BMW Motorrad  \n",
       "12                             BMW Motorrad  \n",
       "13                             BMW Motorrad  \n",
       "14                             BMW Motorrad  \n",
       "15                             BMW Motorrad  "
      ]
     },
     "execution_count": 2,
     "metadata": {},
     "output_type": "execute_result"
    }
   ],
   "source": [
    "df"
   ]
  },
  {
   "cell_type": "code",
   "execution_count": 10,
   "metadata": {},
   "outputs": [
    {
     "data": {
      "application/vnd.plotly.v1+json": {
       "config": {
        "plotlyServerURL": "https://plot.ly"
       },
       "data": [
        {
         "hovertemplate": "kunde_account=lilifee<br>messung_erzeugt=%{x}<br>geschwindigkeit=%{y}<extra></extra>",
         "legendgroup": "lilifee",
         "line": {
          "color": "#636efa",
          "dash": "solid"
         },
         "marker": {
          "symbol": "circle"
         },
         "mode": "lines",
         "name": "lilifee",
         "orientation": "v",
         "showlegend": true,
         "type": "scatter",
         "x": [
          "11:47:26",
          "11:47:31",
          "11:47:36",
          "11:47:41",
          "11:47:46",
          "11:47:51",
          "11:47:56",
          "11:48:01"
         ],
         "xaxis": "x",
         "y": [
          0,
          5,
          6,
          16,
          23,
          31,
          38,
          42
         ],
         "yaxis": "y"
        },
        {
         "hovertemplate": "kunde_account=kminion<br>messung_erzeugt=%{x}<br>geschwindigkeit=%{y}<extra></extra>",
         "legendgroup": "kminion",
         "line": {
          "color": "#EF553B",
          "dash": "solid"
         },
         "marker": {
          "symbol": "circle"
         },
         "mode": "lines",
         "name": "kminion",
         "orientation": "v",
         "showlegend": true,
         "type": "scatter",
         "x": [
          "15:42:12",
          "15:42:17",
          "15:42:22",
          "15:42:27",
          "15:42:32",
          "15:42:37",
          "15:42:42",
          "15:42:47"
         ],
         "xaxis": "x",
         "y": [
          40,
          41,
          44,
          47,
          50,
          44,
          34,
          30
         ],
         "yaxis": "y"
        }
       ],
       "layout": {
        "legend": {
         "title": {
          "text": "kunde_account"
         },
         "tracegroupgap": 0
        },
        "template": {
         "data": {
          "bar": [
           {
            "error_x": {
             "color": "#2a3f5f"
            },
            "error_y": {
             "color": "#2a3f5f"
            },
            "marker": {
             "line": {
              "color": "#E5ECF6",
              "width": 0.5
             },
             "pattern": {
              "fillmode": "overlay",
              "size": 10,
              "solidity": 0.2
             }
            },
            "type": "bar"
           }
          ],
          "barpolar": [
           {
            "marker": {
             "line": {
              "color": "#E5ECF6",
              "width": 0.5
             },
             "pattern": {
              "fillmode": "overlay",
              "size": 10,
              "solidity": 0.2
             }
            },
            "type": "barpolar"
           }
          ],
          "carpet": [
           {
            "aaxis": {
             "endlinecolor": "#2a3f5f",
             "gridcolor": "white",
             "linecolor": "white",
             "minorgridcolor": "white",
             "startlinecolor": "#2a3f5f"
            },
            "baxis": {
             "endlinecolor": "#2a3f5f",
             "gridcolor": "white",
             "linecolor": "white",
             "minorgridcolor": "white",
             "startlinecolor": "#2a3f5f"
            },
            "type": "carpet"
           }
          ],
          "choropleth": [
           {
            "colorbar": {
             "outlinewidth": 0,
             "ticks": ""
            },
            "type": "choropleth"
           }
          ],
          "contour": [
           {
            "colorbar": {
             "outlinewidth": 0,
             "ticks": ""
            },
            "colorscale": [
             [
              0,
              "#0d0887"
             ],
             [
              0.1111111111111111,
              "#46039f"
             ],
             [
              0.2222222222222222,
              "#7201a8"
             ],
             [
              0.3333333333333333,
              "#9c179e"
             ],
             [
              0.4444444444444444,
              "#bd3786"
             ],
             [
              0.5555555555555556,
              "#d8576b"
             ],
             [
              0.6666666666666666,
              "#ed7953"
             ],
             [
              0.7777777777777778,
              "#fb9f3a"
             ],
             [
              0.8888888888888888,
              "#fdca26"
             ],
             [
              1,
              "#f0f921"
             ]
            ],
            "type": "contour"
           }
          ],
          "contourcarpet": [
           {
            "colorbar": {
             "outlinewidth": 0,
             "ticks": ""
            },
            "type": "contourcarpet"
           }
          ],
          "heatmap": [
           {
            "colorbar": {
             "outlinewidth": 0,
             "ticks": ""
            },
            "colorscale": [
             [
              0,
              "#0d0887"
             ],
             [
              0.1111111111111111,
              "#46039f"
             ],
             [
              0.2222222222222222,
              "#7201a8"
             ],
             [
              0.3333333333333333,
              "#9c179e"
             ],
             [
              0.4444444444444444,
              "#bd3786"
             ],
             [
              0.5555555555555556,
              "#d8576b"
             ],
             [
              0.6666666666666666,
              "#ed7953"
             ],
             [
              0.7777777777777778,
              "#fb9f3a"
             ],
             [
              0.8888888888888888,
              "#fdca26"
             ],
             [
              1,
              "#f0f921"
             ]
            ],
            "type": "heatmap"
           }
          ],
          "heatmapgl": [
           {
            "colorbar": {
             "outlinewidth": 0,
             "ticks": ""
            },
            "colorscale": [
             [
              0,
              "#0d0887"
             ],
             [
              0.1111111111111111,
              "#46039f"
             ],
             [
              0.2222222222222222,
              "#7201a8"
             ],
             [
              0.3333333333333333,
              "#9c179e"
             ],
             [
              0.4444444444444444,
              "#bd3786"
             ],
             [
              0.5555555555555556,
              "#d8576b"
             ],
             [
              0.6666666666666666,
              "#ed7953"
             ],
             [
              0.7777777777777778,
              "#fb9f3a"
             ],
             [
              0.8888888888888888,
              "#fdca26"
             ],
             [
              1,
              "#f0f921"
             ]
            ],
            "type": "heatmapgl"
           }
          ],
          "histogram": [
           {
            "marker": {
             "pattern": {
              "fillmode": "overlay",
              "size": 10,
              "solidity": 0.2
             }
            },
            "type": "histogram"
           }
          ],
          "histogram2d": [
           {
            "colorbar": {
             "outlinewidth": 0,
             "ticks": ""
            },
            "colorscale": [
             [
              0,
              "#0d0887"
             ],
             [
              0.1111111111111111,
              "#46039f"
             ],
             [
              0.2222222222222222,
              "#7201a8"
             ],
             [
              0.3333333333333333,
              "#9c179e"
             ],
             [
              0.4444444444444444,
              "#bd3786"
             ],
             [
              0.5555555555555556,
              "#d8576b"
             ],
             [
              0.6666666666666666,
              "#ed7953"
             ],
             [
              0.7777777777777778,
              "#fb9f3a"
             ],
             [
              0.8888888888888888,
              "#fdca26"
             ],
             [
              1,
              "#f0f921"
             ]
            ],
            "type": "histogram2d"
           }
          ],
          "histogram2dcontour": [
           {
            "colorbar": {
             "outlinewidth": 0,
             "ticks": ""
            },
            "colorscale": [
             [
              0,
              "#0d0887"
             ],
             [
              0.1111111111111111,
              "#46039f"
             ],
             [
              0.2222222222222222,
              "#7201a8"
             ],
             [
              0.3333333333333333,
              "#9c179e"
             ],
             [
              0.4444444444444444,
              "#bd3786"
             ],
             [
              0.5555555555555556,
              "#d8576b"
             ],
             [
              0.6666666666666666,
              "#ed7953"
             ],
             [
              0.7777777777777778,
              "#fb9f3a"
             ],
             [
              0.8888888888888888,
              "#fdca26"
             ],
             [
              1,
              "#f0f921"
             ]
            ],
            "type": "histogram2dcontour"
           }
          ],
          "mesh3d": [
           {
            "colorbar": {
             "outlinewidth": 0,
             "ticks": ""
            },
            "type": "mesh3d"
           }
          ],
          "parcoords": [
           {
            "line": {
             "colorbar": {
              "outlinewidth": 0,
              "ticks": ""
             }
            },
            "type": "parcoords"
           }
          ],
          "pie": [
           {
            "automargin": true,
            "type": "pie"
           }
          ],
          "scatter": [
           {
            "fillpattern": {
             "fillmode": "overlay",
             "size": 10,
             "solidity": 0.2
            },
            "type": "scatter"
           }
          ],
          "scatter3d": [
           {
            "line": {
             "colorbar": {
              "outlinewidth": 0,
              "ticks": ""
             }
            },
            "marker": {
             "colorbar": {
              "outlinewidth": 0,
              "ticks": ""
             }
            },
            "type": "scatter3d"
           }
          ],
          "scattercarpet": [
           {
            "marker": {
             "colorbar": {
              "outlinewidth": 0,
              "ticks": ""
             }
            },
            "type": "scattercarpet"
           }
          ],
          "scattergeo": [
           {
            "marker": {
             "colorbar": {
              "outlinewidth": 0,
              "ticks": ""
             }
            },
            "type": "scattergeo"
           }
          ],
          "scattergl": [
           {
            "marker": {
             "colorbar": {
              "outlinewidth": 0,
              "ticks": ""
             }
            },
            "type": "scattergl"
           }
          ],
          "scattermapbox": [
           {
            "marker": {
             "colorbar": {
              "outlinewidth": 0,
              "ticks": ""
             }
            },
            "type": "scattermapbox"
           }
          ],
          "scatterpolar": [
           {
            "marker": {
             "colorbar": {
              "outlinewidth": 0,
              "ticks": ""
             }
            },
            "type": "scatterpolar"
           }
          ],
          "scatterpolargl": [
           {
            "marker": {
             "colorbar": {
              "outlinewidth": 0,
              "ticks": ""
             }
            },
            "type": "scatterpolargl"
           }
          ],
          "scatterternary": [
           {
            "marker": {
             "colorbar": {
              "outlinewidth": 0,
              "ticks": ""
             }
            },
            "type": "scatterternary"
           }
          ],
          "surface": [
           {
            "colorbar": {
             "outlinewidth": 0,
             "ticks": ""
            },
            "colorscale": [
             [
              0,
              "#0d0887"
             ],
             [
              0.1111111111111111,
              "#46039f"
             ],
             [
              0.2222222222222222,
              "#7201a8"
             ],
             [
              0.3333333333333333,
              "#9c179e"
             ],
             [
              0.4444444444444444,
              "#bd3786"
             ],
             [
              0.5555555555555556,
              "#d8576b"
             ],
             [
              0.6666666666666666,
              "#ed7953"
             ],
             [
              0.7777777777777778,
              "#fb9f3a"
             ],
             [
              0.8888888888888888,
              "#fdca26"
             ],
             [
              1,
              "#f0f921"
             ]
            ],
            "type": "surface"
           }
          ],
          "table": [
           {
            "cells": {
             "fill": {
              "color": "#EBF0F8"
             },
             "line": {
              "color": "white"
             }
            },
            "header": {
             "fill": {
              "color": "#C8D4E3"
             },
             "line": {
              "color": "white"
             }
            },
            "type": "table"
           }
          ]
         },
         "layout": {
          "annotationdefaults": {
           "arrowcolor": "#2a3f5f",
           "arrowhead": 0,
           "arrowwidth": 1
          },
          "autotypenumbers": "strict",
          "coloraxis": {
           "colorbar": {
            "outlinewidth": 0,
            "ticks": ""
           }
          },
          "colorscale": {
           "diverging": [
            [
             0,
             "#8e0152"
            ],
            [
             0.1,
             "#c51b7d"
            ],
            [
             0.2,
             "#de77ae"
            ],
            [
             0.3,
             "#f1b6da"
            ],
            [
             0.4,
             "#fde0ef"
            ],
            [
             0.5,
             "#f7f7f7"
            ],
            [
             0.6,
             "#e6f5d0"
            ],
            [
             0.7,
             "#b8e186"
            ],
            [
             0.8,
             "#7fbc41"
            ],
            [
             0.9,
             "#4d9221"
            ],
            [
             1,
             "#276419"
            ]
           ],
           "sequential": [
            [
             0,
             "#0d0887"
            ],
            [
             0.1111111111111111,
             "#46039f"
            ],
            [
             0.2222222222222222,
             "#7201a8"
            ],
            [
             0.3333333333333333,
             "#9c179e"
            ],
            [
             0.4444444444444444,
             "#bd3786"
            ],
            [
             0.5555555555555556,
             "#d8576b"
            ],
            [
             0.6666666666666666,
             "#ed7953"
            ],
            [
             0.7777777777777778,
             "#fb9f3a"
            ],
            [
             0.8888888888888888,
             "#fdca26"
            ],
            [
             1,
             "#f0f921"
            ]
           ],
           "sequentialminus": [
            [
             0,
             "#0d0887"
            ],
            [
             0.1111111111111111,
             "#46039f"
            ],
            [
             0.2222222222222222,
             "#7201a8"
            ],
            [
             0.3333333333333333,
             "#9c179e"
            ],
            [
             0.4444444444444444,
             "#bd3786"
            ],
            [
             0.5555555555555556,
             "#d8576b"
            ],
            [
             0.6666666666666666,
             "#ed7953"
            ],
            [
             0.7777777777777778,
             "#fb9f3a"
            ],
            [
             0.8888888888888888,
             "#fdca26"
            ],
            [
             1,
             "#f0f921"
            ]
           ]
          },
          "colorway": [
           "#636efa",
           "#EF553B",
           "#00cc96",
           "#ab63fa",
           "#FFA15A",
           "#19d3f3",
           "#FF6692",
           "#B6E880",
           "#FF97FF",
           "#FECB52"
          ],
          "font": {
           "color": "#2a3f5f"
          },
          "geo": {
           "bgcolor": "white",
           "lakecolor": "white",
           "landcolor": "#E5ECF6",
           "showlakes": true,
           "showland": true,
           "subunitcolor": "white"
          },
          "hoverlabel": {
           "align": "left"
          },
          "hovermode": "closest",
          "mapbox": {
           "style": "light"
          },
          "paper_bgcolor": "white",
          "plot_bgcolor": "#E5ECF6",
          "polar": {
           "angularaxis": {
            "gridcolor": "white",
            "linecolor": "white",
            "ticks": ""
           },
           "bgcolor": "#E5ECF6",
           "radialaxis": {
            "gridcolor": "white",
            "linecolor": "white",
            "ticks": ""
           }
          },
          "scene": {
           "xaxis": {
            "backgroundcolor": "#E5ECF6",
            "gridcolor": "white",
            "gridwidth": 2,
            "linecolor": "white",
            "showbackground": true,
            "ticks": "",
            "zerolinecolor": "white"
           },
           "yaxis": {
            "backgroundcolor": "#E5ECF6",
            "gridcolor": "white",
            "gridwidth": 2,
            "linecolor": "white",
            "showbackground": true,
            "ticks": "",
            "zerolinecolor": "white"
           },
           "zaxis": {
            "backgroundcolor": "#E5ECF6",
            "gridcolor": "white",
            "gridwidth": 2,
            "linecolor": "white",
            "showbackground": true,
            "ticks": "",
            "zerolinecolor": "white"
           }
          },
          "shapedefaults": {
           "line": {
            "color": "#2a3f5f"
           }
          },
          "ternary": {
           "aaxis": {
            "gridcolor": "white",
            "linecolor": "white",
            "ticks": ""
           },
           "baxis": {
            "gridcolor": "white",
            "linecolor": "white",
            "ticks": ""
           },
           "bgcolor": "#E5ECF6",
           "caxis": {
            "gridcolor": "white",
            "linecolor": "white",
            "ticks": ""
           }
          },
          "title": {
           "x": 0.05
          },
          "xaxis": {
           "automargin": true,
           "gridcolor": "white",
           "linecolor": "white",
           "ticks": "",
           "title": {
            "standoff": 15
           },
           "zerolinecolor": "white",
           "zerolinewidth": 2
          },
          "yaxis": {
           "automargin": true,
           "gridcolor": "white",
           "linecolor": "white",
           "ticks": "",
           "title": {
            "standoff": 15
           },
           "zerolinecolor": "white",
           "zerolinewidth": 2
          }
         }
        },
        "title": {
         "text": "Geschwindigkeits-Verlauf nach Kunde"
        },
        "xaxis": {
         "anchor": "y",
         "domain": [
          0,
          1
         ],
         "title": {
          "text": "messung_erzeugt"
         }
        },
        "yaxis": {
         "anchor": "x",
         "domain": [
          0,
          1
         ],
         "title": {
          "text": "geschwindigkeit"
         }
        }
       }
      }
     },
     "metadata": {},
     "output_type": "display_data"
    }
   ],
   "source": [
    "import plotly.express as px\n",
    "\n",
    "df['messung_erzeugt'] = pd.to_datetime(df['messung_erzeugt'])\n",
    "df['messung_erzeugt'] = df['messung_erzeugt'].dt.strftime('%H:%M:%S')\n",
    "df.sort_values('messung_erzeugt', inplace=True)\n",
    "\n",
    "px.line(df, y='geschwindigkeit', x='messung_erzeugt', color='kunde_account', title=\"Geschwindigkeits-Verlauf nach Kunde\")"
   ]
  },
  {
   "cell_type": "code",
   "execution_count": null,
   "metadata": {},
   "outputs": [],
   "source": []
  }
 ],
 "metadata": {
  "kernelspec": {
   "display_name": "DataManagementFundamentals",
   "language": "python",
   "name": "python3"
  },
  "language_info": {
   "codemirror_mode": {
    "name": "ipython",
    "version": 3
   },
   "file_extension": ".py",
   "mimetype": "text/x-python",
   "name": "python",
   "nbconvert_exporter": "python",
   "pygments_lexer": "ipython3",
   "version": "3.9.15"
  },
  "orig_nbformat": 4,
  "vscode": {
   "interpreter": {
    "hash": "83b66265eca590c67459fc8e1c8b514e8429bef536cbb77d74055836508167da"
   }
  }
 },
 "nbformat": 4,
 "nbformat_minor": 2
}
